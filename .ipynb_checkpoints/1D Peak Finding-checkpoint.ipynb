{
 "cells": [
  {
   "cell_type": "code",
   "execution_count": 7,
   "metadata": {},
   "outputs": [],
   "source": [
    "import random"
   ]
  },
  {
   "cell_type": "code",
   "execution_count": 8,
   "metadata": {},
   "outputs": [],
   "source": [
    "randomNumbers = random.sample(range(100), 6)\n",
    "mid = int(len(randomNumbers)/2)"
   ]
  },
  {
   "cell_type": "code",
   "execution_count": 9,
   "metadata": {},
   "outputs": [
    {
     "name": "stdout",
     "output_type": "stream",
     "text": [
      "[92, 71, 79, 50, 26, 68]\n",
      "50\n"
     ]
    }
   ],
   "source": [
    "print(randomNumbers)\n",
    "print(randomNumbers[int(len(randomNumbers)/2)])"
   ]
  },
  {
   "cell_type": "code",
   "execution_count": 17,
   "metadata": {},
   "outputs": [
    {
     "ename": "NameError",
     "evalue": "name 'middleIndex' is not defined",
     "output_type": "error",
     "traceback": [
      "\u001b[0;31m---------------------------------------------------------------------------\u001b[0m",
      "\u001b[0;31mNameError\u001b[0m                                 Traceback (most recent call last)",
      "\u001b[0;32m<ipython-input-17-876f89184033>\u001b[0m in \u001b[0;36m<module>\u001b[0;34m()\u001b[0m\n\u001b[1;32m     22\u001b[0m         \u001b[0;32mreturn\u001b[0m \u001b[0mpeakFinder\u001b[0m\u001b[0;34m(\u001b[0m\u001b[0mleftArray\u001b[0m\u001b[0;34m)\u001b[0m\u001b[0;34m\u001b[0m\u001b[0m\n\u001b[1;32m     23\u001b[0m \u001b[0;34m\u001b[0m\u001b[0m\n\u001b[0;32m---> 24\u001b[0;31m \u001b[0mpeakFinder\u001b[0m\u001b[0;34m(\u001b[0m\u001b[0mrandomNumbers\u001b[0m\u001b[0;34m)\u001b[0m\u001b[0;34m\u001b[0m\u001b[0m\n\u001b[0m",
      "\u001b[0;32m<ipython-input-17-876f89184033>\u001b[0m in \u001b[0;36mpeakFinder\u001b[0;34m(nums)\u001b[0m\n\u001b[1;32m      9\u001b[0m     \u001b[0mrightHalf\u001b[0m \u001b[0;34m=\u001b[0m \u001b[0mnums\u001b[0m\u001b[0;34m[\u001b[0m\u001b[0mmid\u001b[0m\u001b[0;34m:\u001b[0m\u001b[0;34m]\u001b[0m\u001b[0;34m\u001b[0m\u001b[0m\n\u001b[1;32m     10\u001b[0m \u001b[0;34m\u001b[0m\u001b[0m\n\u001b[0;32m---> 11\u001b[0;31m     \u001b[0mleftArray\u001b[0m \u001b[0;34m=\u001b[0m \u001b[0mnums\u001b[0m\u001b[0;34m[\u001b[0m\u001b[0;34m:\u001b[0m\u001b[0mmiddleIndex\u001b[0m\u001b[0;34m]\u001b[0m\u001b[0;34m\u001b[0m\u001b[0m\n\u001b[0m\u001b[1;32m     12\u001b[0m     \u001b[0mrightArray\u001b[0m \u001b[0;34m=\u001b[0m \u001b[0mnums\u001b[0m\u001b[0;34m[\u001b[0m\u001b[0mmiddleIndex\u001b[0m\u001b[0;34m:\u001b[0m\u001b[0;34m]\u001b[0m\u001b[0;34m\u001b[0m\u001b[0m\n\u001b[1;32m     13\u001b[0m \u001b[0;34m\u001b[0m\u001b[0m\n",
      "\u001b[0;31mNameError\u001b[0m: name 'middleIndex' is not defined"
     ]
    }
   ],
   "source": [
    "def peakFinder(nums):\n",
    "    n = len(nums)\n",
    "    mid = int(n/2)\n",
    "    \n",
    "    if nums[mid] > nums[mid-1] and nums[mid] > nums[mid+1]:\n",
    "        return nums[mid]\n",
    "    \n",
    "    leftHalf = nums[:mid]\n",
    "    rightHalf = nums[mid:]\n",
    "    \n",
    "    leftArray = nums[:middleIndex]\n",
    "    rightArray = nums[middleIndex:]\n",
    "\n",
    "    moveRight = nums[mid + 1] > nums[mid] and nums[mid + 1] > nums[mid - 1]\n",
    "\n",
    "    moveLeft = nums[mid - 1] > nums[mid] and nums[mid - 1] > nums[mid + 1]\n",
    "\n",
    "        # recursive case\n",
    "    if moveRight:\n",
    "        return peakFinder(rightArray)\n",
    "    elif moveLeft:\n",
    "        return peakFinder(leftArray)    \n",
    "    \n",
    "peakFinder(randomNumbers)"
   ]
  },
  {
   "cell_type": "code",
   "execution_count": null,
   "metadata": {},
   "outputs": [],
   "source": []
  }
 ],
 "metadata": {
  "kernelspec": {
   "display_name": "Python 3",
   "language": "python",
   "name": "python3"
  },
  "language_info": {
   "codemirror_mode": {
    "name": "ipython",
    "version": 3
   },
   "file_extension": ".py",
   "mimetype": "text/x-python",
   "name": "python",
   "nbconvert_exporter": "python",
   "pygments_lexer": "ipython3",
   "version": "3.6.5"
  }
 },
 "nbformat": 4,
 "nbformat_minor": 2
}
