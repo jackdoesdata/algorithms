{
 "cells": [
  {
   "cell_type": "code",
   "execution_count": 22,
   "metadata": {},
   "outputs": [],
   "source": [
    "import random\n",
    "randomNumbers = random.sample(range(100), 10)"
   ]
  },
  {
   "cell_type": "code",
   "execution_count": 23,
   "metadata": {},
   "outputs": [
    {
     "data": {
      "text/plain": [
       "[6, 31, 98, 11, 70, 46, 71, 53, 17, 41]"
      ]
     },
     "execution_count": 23,
     "metadata": {},
     "output_type": "execute_result"
    }
   ],
   "source": [
    "randomNumbers"
   ]
  },
  {
   "cell_type": "code",
   "execution_count": 24,
   "metadata": {},
   "outputs": [],
   "source": [
    "# create a function to find a peak in a 1D array. Will be use recursion to continuously split the \n",
    "# array until a peak is found. Will be more efficient than traversing the array from left-to-right.\n",
    "\n",
    "def peakFinder(x):\n",
    "    #length and middle of the input\n",
    "    n = len(x)\n",
    "    mid = int(n/2)\n",
    "\n",
    "    #define if a number is a peak\n",
    "    if x[mid] > x[mid + 1] and x[mid] > x[mid - 1]:\n",
    "        return x[mid]\n",
    "  \n",
    "    # get the le\n",
    "    leftHalf = x[:mid+1]\n",
    "    rightHalf = x[mid-1:]\n",
    "    \n",
    "    #when the function should step to the left\n",
    "    goLeft = x[mid-1] > x[mid] and x[mid-1] > x[mid+1]\n",
    "    #when the function should step to the right\n",
    "    goRight = x[mid+1] > x[mid] and x[mid+1] > x[mid-1]\n",
    "  \n",
    "    #if go left is satisfied, run the function on the left half \n",
    "    if goLeft==True:\n",
    "        return peakFinder(leftHalf)\n",
    "    #if go right is satisfied, run the function on the right half\n",
    "    elif goRight==True:\n",
    "        return peakFinder(rightHalf)\n",
    "    else:\n",
    "        'None'"
   ]
  },
  {
   "cell_type": "code",
   "execution_count": 25,
   "metadata": {},
   "outputs": [
    {
     "data": {
      "text/plain": [
       "71"
      ]
     },
     "execution_count": 25,
     "metadata": {},
     "output_type": "execute_result"
    }
   ],
   "source": [
    "peakFinder(randomNumbers)"
   ]
  },
  {
   "cell_type": "code",
   "execution_count": null,
   "metadata": {},
   "outputs": [],
   "source": []
  }
 ],
 "metadata": {
  "kernelspec": {
   "display_name": "Python 3",
   "language": "python",
   "name": "python3"
  },
  "language_info": {
   "codemirror_mode": {
    "name": "ipython",
    "version": 3
   },
   "file_extension": ".py",
   "mimetype": "text/x-python",
   "name": "python",
   "nbconvert_exporter": "python",
   "pygments_lexer": "ipython3",
   "version": "3.6.5"
  }
 },
 "nbformat": 4,
 "nbformat_minor": 2
}
