{
 "cells": [
  {
   "cell_type": "raw",
   "metadata": {},
   "source": [
    "Rob Katz is heading to the Epic Mountain Store to buy some new planks for his COVID-19 ending celebratory trip to Hunter.\n",
    "\n",
    "Rob wants to buy two pairs of skis - one for groomers and one for the park. He's really been stepping up his park game in the off season.\n",
    "\n",
    "After forfeiting his salary for the last 6 months, he only has $750 to spend, but he loves skiing so much that he wants to spend it all. Rob doesn't want to pay the overweight fee at the airport, so the skis need to weigh as little as possible.\n",
    "\n",
    "Criteria:\n",
    "Write an algorithm to find the combinations that spend the $750. If multiple combos meet this criteria, select the combo with the smallest combined weight. You must return the indexes of the 'winning' combo from the list of skis.\n",
    "\n",
    "It can be assumed that there will be a combination that adds to $750."
   ]
  },
  {
   "cell_type": "code",
   "execution_count": 70,
   "metadata": {},
   "outputs": [],
   "source": [
    "#               [(value, weight),(value, weight),...]\n",
    "skis = [(364,15),(363,13),(371,18),(421,12),(480,13),(386,16),(357,12),(750,13),(393,11)]\n",
    "money = 750"
   ]
  },
  {
   "cell_type": "code",
   "execution_count": 71,
   "metadata": {},
   "outputs": [
    {
     "data": {
      "text/plain": [
       "[6, 8]"
      ]
     },
     "execution_count": 71,
     "metadata": {},
     "output_type": "execute_result"
    }
   ],
   "source": [
    "def bookFinder(skis, money):\n",
    "    prices = []\n",
    "    for i in skis:\n",
    "        prices.append(i[0])\n",
    "    qualifiedSkis=[]\n",
    "\n",
    "    for i in range(len(prices)):\n",
    "        for x in range(i+1, len(prices)):\n",
    "            if prices[i] + prices[x] == money:   \n",
    "                qualifiedSkis.append((skis[i][1] + skis[x][1], skis.index(skis[i]), skis.index(skis[x])))\n",
    "    result=min(qualifiedSkis)\n",
    "    return list(result[1:])\n",
    "\n",
    "bookFinder(skis,money)"
   ]
  },
  {
   "cell_type": "code",
   "execution_count": null,
   "metadata": {},
   "outputs": [],
   "source": []
  },
  {
   "cell_type": "code",
   "execution_count": null,
   "metadata": {},
   "outputs": [],
   "source": []
  }
 ],
 "metadata": {
  "kernelspec": {
   "display_name": "Python 3",
   "language": "python",
   "name": "python3"
  },
  "language_info": {
   "codemirror_mode": {
    "name": "ipython",
    "version": 3
   },
   "file_extension": ".py",
   "mimetype": "text/x-python",
   "name": "python",
   "nbconvert_exporter": "python",
   "pygments_lexer": "ipython3",
   "version": "3.6.5"
  }
 },
 "nbformat": 4,
 "nbformat_minor": 2
}
